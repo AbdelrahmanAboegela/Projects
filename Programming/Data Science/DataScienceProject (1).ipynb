{
 "cells": [
  {
   "cell_type": "code",
   "execution_count": 1,
   "id": "c6b1b1db-ed81-4cce-afb8-0b045a6a65d4",
   "metadata": {},
   "outputs": [],
   "source": [
    "import pandas as pd"
   ]
  },
  {
   "cell_type": "code",
   "execution_count": 16,
   "id": "3768db6a-2517-4e4b-948f-bcfc25ec3c5b",
   "metadata": {},
   "outputs": [],
   "source": [
    "data = pd.read_csv(\"clean_data.csv\",on_bad_lines='skip', na_values=['?','UNDEFINED'])"
   ]
  },
  {
   "cell_type": "code",
   "execution_count": 18,
   "id": "16d7078d",
   "metadata": {},
   "outputs": [
    {
     "data": {
      "text/html": [
       "<div>\n",
       "<style scoped>\n",
       "    .dataframe tbody tr th:only-of-type {\n",
       "        vertical-align: middle;\n",
       "    }\n",
       "\n",
       "    .dataframe tbody tr th {\n",
       "        vertical-align: top;\n",
       "    }\n",
       "\n",
       "    .dataframe thead th {\n",
       "        text-align: right;\n",
       "    }\n",
       "</style>\n",
       "<table border=\"1\" class=\"dataframe\">\n",
       "  <thead>\n",
       "    <tr style=\"text-align: right;\">\n",
       "      <th></th>\n",
       "      <th></th>\n",
       "      <th></th>\n",
       "      <th>person</th>\n",
       "    </tr>\n",
       "  </thead>\n",
       "  <tbody>\n",
       "    <tr>\n",
       "      <th>constable darius quimby</th>\n",
       "      <th>albany county constable's office</th>\n",
       "      <th>ny</th>\n",
       "      <td>eow: monday</td>\n",
       "    </tr>\n",
       "    <tr>\n",
       "      <th>sheriff cornelius hogeboom</th>\n",
       "      <th>columbia county sheriff's office</th>\n",
       "      <th>ny</th>\n",
       "      <td>eow: saturday</td>\n",
       "    </tr>\n",
       "    <tr>\n",
       "      <th>deputy sheriff isaac smith</th>\n",
       "      <th>westchester county sheriff's department</th>\n",
       "      <th>ny</th>\n",
       "      <td>eow: thursday</td>\n",
       "    </tr>\n",
       "    <tr>\n",
       "      <th>marshal robert forsyth</th>\n",
       "      <th>united states department of justice - united states marshals service</th>\n",
       "      <th>us</th>\n",
       "      <td>eow: saturday</td>\n",
       "    </tr>\n",
       "    <tr>\n",
       "      <th>sheriff robert maxwell</th>\n",
       "      <th>greenville county sheriff's office</th>\n",
       "      <th>sc</th>\n",
       "      <td>eow: sunday</td>\n",
       "    </tr>\n",
       "    <tr>\n",
       "      <th>...</th>\n",
       "      <th>...</th>\n",
       "      <th>...</th>\n",
       "      <td>...</td>\n",
       "    </tr>\n",
       "    <tr>\n",
       "      <th>k9 bruno</th>\n",
       "      <th>amarillo police department</th>\n",
       "      <th>tx</th>\n",
       "      <td>eow: sunday</td>\n",
       "    </tr>\n",
       "    <tr>\n",
       "      <th>k9 lazer</th>\n",
       "      <th>united states department of homeland security - customs and border protection - united states border patrol</th>\n",
       "      <th>us</th>\n",
       "      <td>eow: monday</td>\n",
       "    </tr>\n",
       "    <tr>\n",
       "      <th>k9 tyson</th>\n",
       "      <th>fountain county sheriff's office</th>\n",
       "      <th>in</th>\n",
       "      <td>eow: monday</td>\n",
       "    </tr>\n",
       "    <tr>\n",
       "      <th>k9 credo</th>\n",
       "      <th>long beach police department</th>\n",
       "      <th>ca</th>\n",
       "      <td>eow: tuesday</td>\n",
       "    </tr>\n",
       "    <tr>\n",
       "      <th>k9 roscoe</th>\n",
       "      <th>emmett police department</th>\n",
       "      <th>id</th>\n",
       "      <td>eow: friday</td>\n",
       "    </tr>\n",
       "  </tbody>\n",
       "</table>\n",
       "<p>21375 rows × 1 columns</p>\n",
       "</div>"
      ],
      "text/plain": [
       "                                                                                         person\n",
       "constable darius quimby    albany county constable's office                   ny    eow: monday\n",
       "sheriff cornelius hogeboom columbia county sheriff's office                   ny  eow: saturday\n",
       "deputy sheriff isaac smith westchester county sheriff's department            ny  eow: thursday\n",
       "marshal robert forsyth     united states department of justice - united st... us  eow: saturday\n",
       "sheriff robert maxwell     greenville county sheriff's office                 sc    eow: sunday\n",
       "...                                                                                         ...\n",
       "k9 bruno                   amarillo police department                         tx    eow: sunday\n",
       "k9 lazer                   united states department of homeland security -... us    eow: monday\n",
       "k9 tyson                   fountain county sheriff's office                   in    eow: monday\n",
       "k9 credo                   long beach police department                       ca   eow: tuesday\n",
       "k9 roscoe                  emmett police department                           id    eow: friday\n",
       "\n",
       "[21375 rows x 1 columns]"
      ]
     },
     "execution_count": 18,
     "metadata": {},
     "output_type": "execute_result"
    }
   ],
   "source": [
    "data[['person']]"
   ]
  },
  {
   "cell_type": "code",
   "execution_count": 22,
   "id": "2657d7da-5ae0-4568-af2a-efd1451ba4cb",
   "metadata": {},
   "outputs": [
    {
     "data": {
      "text/plain": [
       "(21375, 10)"
      ]
     },
     "execution_count": 22,
     "metadata": {},
     "output_type": "execute_result"
    }
   ],
   "source": [
    "#check \n",
    "data.shape"
   ]
  },
  {
   "cell_type": "code",
   "execution_count": 23,
   "id": "b88cc7e5-81ee-4c04-9b1c-e15b46c850ff",
   "metadata": {},
   "outputs": [
    {
     "data": {
      "text/plain": [
       "person         object\n",
       "dept           object\n",
       "eow             int64\n",
       "cause          object\n",
       "cause_short    object\n",
       "date           object\n",
       "year            int64\n",
       "canine           bool\n",
       "dept_name      object\n",
       "state          object\n",
       "dtype: object"
      ]
     },
     "execution_count": 23,
     "metadata": {},
     "output_type": "execute_result"
    }
   ],
   "source": [
    "data.dtypes"
   ]
  },
  {
   "cell_type": "code",
   "execution_count": 24,
   "id": "eb10bf98-6fad-469a-b406-c18d86bb7ce4",
   "metadata": {},
   "outputs": [
    {
     "data": {
      "text/html": [
       "<div>\n",
       "<style scoped>\n",
       "    .dataframe tbody tr th:only-of-type {\n",
       "        vertical-align: middle;\n",
       "    }\n",
       "\n",
       "    .dataframe tbody tr th {\n",
       "        vertical-align: top;\n",
       "    }\n",
       "\n",
       "    .dataframe thead th {\n",
       "        text-align: right;\n",
       "    }\n",
       "</style>\n",
       "<table border=\"1\" class=\"dataframe\">\n",
       "  <thead>\n",
       "    <tr style=\"text-align: right;\">\n",
       "      <th></th>\n",
       "      <th></th>\n",
       "      <th></th>\n",
       "      <th>person</th>\n",
       "      <th>dept</th>\n",
       "      <th>eow</th>\n",
       "      <th>cause</th>\n",
       "      <th>cause_short</th>\n",
       "      <th>date</th>\n",
       "      <th>year</th>\n",
       "      <th>canine</th>\n",
       "      <th>dept_name</th>\n",
       "      <th>state</th>\n",
       "    </tr>\n",
       "  </thead>\n",
       "  <tbody>\n",
       "    <tr>\n",
       "      <th>constable darius quimby</th>\n",
       "      <th>albany county constable's office</th>\n",
       "      <th>ny</th>\n",
       "      <td>eow: monday</td>\n",
       "      <td>january 3</td>\n",
       "      <td>1791</td>\n",
       "      <td>cause of death: gunfire</td>\n",
       "      <td>gunfire</td>\n",
       "      <td>1791-01-03</td>\n",
       "      <td>1791</td>\n",
       "      <td>False</td>\n",
       "      <td>albany county constable's office</td>\n",
       "      <td>ny</td>\n",
       "    </tr>\n",
       "    <tr>\n",
       "      <th>sheriff cornelius hogeboom</th>\n",
       "      <th>columbia county sheriff's office</th>\n",
       "      <th>ny</th>\n",
       "      <td>eow: saturday</td>\n",
       "      <td>october 22</td>\n",
       "      <td>1791</td>\n",
       "      <td>cause of death: gunfire</td>\n",
       "      <td>gunfire</td>\n",
       "      <td>1791-10-22</td>\n",
       "      <td>1791</td>\n",
       "      <td>False</td>\n",
       "      <td>columbia county sheriff's office</td>\n",
       "      <td>ny</td>\n",
       "    </tr>\n",
       "    <tr>\n",
       "      <th>deputy sheriff isaac smith</th>\n",
       "      <th>westchester county sheriff's department</th>\n",
       "      <th>ny</th>\n",
       "      <td>eow: thursday</td>\n",
       "      <td>may 17</td>\n",
       "      <td>1792</td>\n",
       "      <td>cause of death: gunfire</td>\n",
       "      <td>gunfire</td>\n",
       "      <td>1792-05-17</td>\n",
       "      <td>1792</td>\n",
       "      <td>False</td>\n",
       "      <td>westchester county sheriff's department</td>\n",
       "      <td>ny</td>\n",
       "    </tr>\n",
       "    <tr>\n",
       "      <th>marshal robert forsyth</th>\n",
       "      <th>united states department of justice - united states marshals service</th>\n",
       "      <th>us</th>\n",
       "      <td>eow: saturday</td>\n",
       "      <td>january 11</td>\n",
       "      <td>1794</td>\n",
       "      <td>cause of death: gunfire</td>\n",
       "      <td>gunfire</td>\n",
       "      <td>1794-01-11</td>\n",
       "      <td>1794</td>\n",
       "      <td>False</td>\n",
       "      <td>united states department of justice - united s...</td>\n",
       "      <td>us</td>\n",
       "    </tr>\n",
       "    <tr>\n",
       "      <th>sheriff robert maxwell</th>\n",
       "      <th>greenville county sheriff's office</th>\n",
       "      <th>sc</th>\n",
       "      <td>eow: sunday</td>\n",
       "      <td>november 12</td>\n",
       "      <td>1797</td>\n",
       "      <td>cause of death: gunfire</td>\n",
       "      <td>gunfire</td>\n",
       "      <td>1797-11-12</td>\n",
       "      <td>1797</td>\n",
       "      <td>False</td>\n",
       "      <td>greenville county sheriff's office</td>\n",
       "      <td>sc</td>\n",
       "    </tr>\n",
       "  </tbody>\n",
       "</table>\n",
       "</div>"
      ],
      "text/plain": [
       "                                                                                         person  \\\n",
       "constable darius quimby    albany county constable's office                   ny    eow: monday   \n",
       "sheriff cornelius hogeboom columbia county sheriff's office                   ny  eow: saturday   \n",
       "deputy sheriff isaac smith westchester county sheriff's department            ny  eow: thursday   \n",
       "marshal robert forsyth     united states department of justice - united st... us  eow: saturday   \n",
       "sheriff robert maxwell     greenville county sheriff's office                 sc    eow: sunday   \n",
       "\n",
       "                                                                                          dept  \\\n",
       "constable darius quimby    albany county constable's office                   ny     january 3   \n",
       "sheriff cornelius hogeboom columbia county sheriff's office                   ny    october 22   \n",
       "deputy sheriff isaac smith westchester county sheriff's department            ny        may 17   \n",
       "marshal robert forsyth     united states department of justice - united st... us    january 11   \n",
       "sheriff robert maxwell     greenville county sheriff's office                 sc   november 12   \n",
       "\n",
       "                                                                                   eow  \\\n",
       "constable darius quimby    albany county constable's office                   ny  1791   \n",
       "sheriff cornelius hogeboom columbia county sheriff's office                   ny  1791   \n",
       "deputy sheriff isaac smith westchester county sheriff's department            ny  1792   \n",
       "marshal robert forsyth     united states department of justice - united st... us  1794   \n",
       "sheriff robert maxwell     greenville county sheriff's office                 sc  1797   \n",
       "\n",
       "                                                                                                    cause  \\\n",
       "constable darius quimby    albany county constable's office                   ny  cause of death: gunfire   \n",
       "sheriff cornelius hogeboom columbia county sheriff's office                   ny  cause of death: gunfire   \n",
       "deputy sheriff isaac smith westchester county sheriff's department            ny  cause of death: gunfire   \n",
       "marshal robert forsyth     united states department of justice - united st... us  cause of death: gunfire   \n",
       "sheriff robert maxwell     greenville county sheriff's office                 sc  cause of death: gunfire   \n",
       "\n",
       "                                                                                 cause_short  \\\n",
       "constable darius quimby    albany county constable's office                   ny     gunfire   \n",
       "sheriff cornelius hogeboom columbia county sheriff's office                   ny     gunfire   \n",
       "deputy sheriff isaac smith westchester county sheriff's department            ny     gunfire   \n",
       "marshal robert forsyth     united states department of justice - united st... us     gunfire   \n",
       "sheriff robert maxwell     greenville county sheriff's office                 sc     gunfire   \n",
       "\n",
       "                                                                                        date  \\\n",
       "constable darius quimby    albany county constable's office                   ny  1791-01-03   \n",
       "sheriff cornelius hogeboom columbia county sheriff's office                   ny  1791-10-22   \n",
       "deputy sheriff isaac smith westchester county sheriff's department            ny  1792-05-17   \n",
       "marshal robert forsyth     united states department of justice - united st... us  1794-01-11   \n",
       "sheriff robert maxwell     greenville county sheriff's office                 sc  1797-11-12   \n",
       "\n",
       "                                                                                  year  \\\n",
       "constable darius quimby    albany county constable's office                   ny  1791   \n",
       "sheriff cornelius hogeboom columbia county sheriff's office                   ny  1791   \n",
       "deputy sheriff isaac smith westchester county sheriff's department            ny  1792   \n",
       "marshal robert forsyth     united states department of justice - united st... us  1794   \n",
       "sheriff robert maxwell     greenville county sheriff's office                 sc  1797   \n",
       "\n",
       "                                                                                  canine  \\\n",
       "constable darius quimby    albany county constable's office                   ny   False   \n",
       "sheriff cornelius hogeboom columbia county sheriff's office                   ny   False   \n",
       "deputy sheriff isaac smith westchester county sheriff's department            ny   False   \n",
       "marshal robert forsyth     united states department of justice - united st... us   False   \n",
       "sheriff robert maxwell     greenville county sheriff's office                 sc   False   \n",
       "\n",
       "                                                                                                                          dept_name  \\\n",
       "constable darius quimby    albany county constable's office                   ny                   albany county constable's office   \n",
       "sheriff cornelius hogeboom columbia county sheriff's office                   ny                   columbia county sheriff's office   \n",
       "deputy sheriff isaac smith westchester county sheriff's department            ny            westchester county sheriff's department   \n",
       "marshal robert forsyth     united states department of justice - united st... us  united states department of justice - united s...   \n",
       "sheriff robert maxwell     greenville county sheriff's office                 sc                 greenville county sheriff's office   \n",
       "\n",
       "                                                                                 state  \n",
       "constable darius quimby    albany county constable's office                   ny    ny  \n",
       "sheriff cornelius hogeboom columbia county sheriff's office                   ny    ny  \n",
       "deputy sheriff isaac smith westchester county sheriff's department            ny    ny  \n",
       "marshal robert forsyth     united states department of justice - united st... us    us  \n",
       "sheriff robert maxwell     greenville county sheriff's office                 sc    sc  "
      ]
     },
     "execution_count": 24,
     "metadata": {},
     "output_type": "execute_result"
    }
   ],
   "source": [
    "data.head()"
   ]
  },
  {
   "cell_type": "code",
   "execution_count": 25,
   "id": "0ab92106-5720-4b2c-8624-ea994b7d8641",
   "metadata": {},
   "outputs": [
    {
     "data": {
      "text/html": [
       "<div>\n",
       "<style scoped>\n",
       "    .dataframe tbody tr th:only-of-type {\n",
       "        vertical-align: middle;\n",
       "    }\n",
       "\n",
       "    .dataframe tbody tr th {\n",
       "        vertical-align: top;\n",
       "    }\n",
       "\n",
       "    .dataframe thead th {\n",
       "        text-align: right;\n",
       "    }\n",
       "</style>\n",
       "<table border=\"1\" class=\"dataframe\">\n",
       "  <thead>\n",
       "    <tr style=\"text-align: right;\">\n",
       "      <th></th>\n",
       "      <th></th>\n",
       "      <th></th>\n",
       "      <th>person</th>\n",
       "      <th>dept</th>\n",
       "      <th>eow</th>\n",
       "      <th>cause</th>\n",
       "      <th>cause_short</th>\n",
       "      <th>date</th>\n",
       "      <th>year</th>\n",
       "      <th>canine</th>\n",
       "      <th>dept_name</th>\n",
       "      <th>state</th>\n",
       "    </tr>\n",
       "  </thead>\n",
       "  <tbody>\n",
       "    <tr>\n",
       "      <th>k9 bruno</th>\n",
       "      <th>amarillo police department</th>\n",
       "      <th>tx</th>\n",
       "      <td>eow: sunday</td>\n",
       "      <td>june 12</td>\n",
       "      <td>2016</td>\n",
       "      <td>cause of death: accidental</td>\n",
       "      <td>accidental</td>\n",
       "      <td>2016-06-12</td>\n",
       "      <td>2016</td>\n",
       "      <td>True</td>\n",
       "      <td>amarillo police department</td>\n",
       "      <td>tx</td>\n",
       "    </tr>\n",
       "    <tr>\n",
       "      <th>k9 lazer</th>\n",
       "      <th>united states department of homeland security - customs and border protection - united states border patrol</th>\n",
       "      <th>us</th>\n",
       "      <td>eow: monday</td>\n",
       "      <td>june 20</td>\n",
       "      <td>2016</td>\n",
       "      <td>cause of death: heat exhaustion</td>\n",
       "      <td>heat exhaustion</td>\n",
       "      <td>2016-06-20</td>\n",
       "      <td>2016</td>\n",
       "      <td>True</td>\n",
       "      <td>united states department of homeland security ...</td>\n",
       "      <td>us</td>\n",
       "    </tr>\n",
       "    <tr>\n",
       "      <th>k9 tyson</th>\n",
       "      <th>fountain county sheriff's office</th>\n",
       "      <th>in</th>\n",
       "      <td>eow: monday</td>\n",
       "      <td>june 27</td>\n",
       "      <td>2016</td>\n",
       "      <td>cause of death: heat exhaustion</td>\n",
       "      <td>heat exhaustion</td>\n",
       "      <td>2016-06-27</td>\n",
       "      <td>2016</td>\n",
       "      <td>True</td>\n",
       "      <td>fountain county sheriff's office</td>\n",
       "      <td>in</td>\n",
       "    </tr>\n",
       "    <tr>\n",
       "      <th>k9 credo</th>\n",
       "      <th>long beach police department</th>\n",
       "      <th>ca</th>\n",
       "      <td>eow: tuesday</td>\n",
       "      <td>june 28</td>\n",
       "      <td>2016</td>\n",
       "      <td>cause of death: gunfire (accidental)</td>\n",
       "      <td>gunfire (accidental)</td>\n",
       "      <td>2016-06-28</td>\n",
       "      <td>2016</td>\n",
       "      <td>True</td>\n",
       "      <td>long beach police department</td>\n",
       "      <td>ca</td>\n",
       "    </tr>\n",
       "    <tr>\n",
       "      <th>k9 roscoe</th>\n",
       "      <th>emmett police department</th>\n",
       "      <th>id</th>\n",
       "      <td>eow: friday</td>\n",
       "      <td>july 1</td>\n",
       "      <td>2016</td>\n",
       "      <td>cause of death: automobile accident</td>\n",
       "      <td>automobile accident</td>\n",
       "      <td>2016-07-01</td>\n",
       "      <td>2016</td>\n",
       "      <td>True</td>\n",
       "      <td>emmett police department</td>\n",
       "      <td>id</td>\n",
       "    </tr>\n",
       "  </tbody>\n",
       "</table>\n",
       "</div>"
      ],
      "text/plain": [
       "                                                                       person  \\\n",
       "k9 bruno  amarillo police department                         tx   eow: sunday   \n",
       "k9 lazer  united states department of homeland security -... us   eow: monday   \n",
       "k9 tyson  fountain county sheriff's office                   in   eow: monday   \n",
       "k9 credo  long beach police department                       ca  eow: tuesday   \n",
       "k9 roscoe emmett police department                           id   eow: friday   \n",
       "\n",
       "                                                                     dept  \\\n",
       "k9 bruno  amarillo police department                         tx   june 12   \n",
       "k9 lazer  united states department of homeland security -... us   june 20   \n",
       "k9 tyson  fountain county sheriff's office                   in   june 27   \n",
       "k9 credo  long beach police department                       ca   june 28   \n",
       "k9 roscoe emmett police department                           id    july 1   \n",
       "\n",
       "                                                                  eow  \\\n",
       "k9 bruno  amarillo police department                         tx  2016   \n",
       "k9 lazer  united states department of homeland security -... us  2016   \n",
       "k9 tyson  fountain county sheriff's office                   in  2016   \n",
       "k9 credo  long beach police department                       ca  2016   \n",
       "k9 roscoe emmett police department                           id  2016   \n",
       "\n",
       "                                                                                                cause  \\\n",
       "k9 bruno  amarillo police department                         tx            cause of death: accidental   \n",
       "k9 lazer  united states department of homeland security -... us       cause of death: heat exhaustion   \n",
       "k9 tyson  fountain county sheriff's office                   in       cause of death: heat exhaustion   \n",
       "k9 credo  long beach police department                       ca  cause of death: gunfire (accidental)   \n",
       "k9 roscoe emmett police department                           id   cause of death: automobile accident   \n",
       "\n",
       "                                                                          cause_short  \\\n",
       "k9 bruno  amarillo police department                         tx            accidental   \n",
       "k9 lazer  united states department of homeland security -... us       heat exhaustion   \n",
       "k9 tyson  fountain county sheriff's office                   in       heat exhaustion   \n",
       "k9 credo  long beach police department                       ca  gunfire (accidental)   \n",
       "k9 roscoe emmett police department                           id   automobile accident   \n",
       "\n",
       "                                                                       date  \\\n",
       "k9 bruno  amarillo police department                         tx  2016-06-12   \n",
       "k9 lazer  united states department of homeland security -... us  2016-06-20   \n",
       "k9 tyson  fountain county sheriff's office                   in  2016-06-27   \n",
       "k9 credo  long beach police department                       ca  2016-06-28   \n",
       "k9 roscoe emmett police department                           id  2016-07-01   \n",
       "\n",
       "                                                                 year  canine  \\\n",
       "k9 bruno  amarillo police department                         tx  2016    True   \n",
       "k9 lazer  united states department of homeland security -... us  2016    True   \n",
       "k9 tyson  fountain county sheriff's office                   in  2016    True   \n",
       "k9 credo  long beach police department                       ca  2016    True   \n",
       "k9 roscoe emmett police department                           id  2016    True   \n",
       "\n",
       "                                                                                                         dept_name  \\\n",
       "k9 bruno  amarillo police department                         tx                         amarillo police department   \n",
       "k9 lazer  united states department of homeland security -... us  united states department of homeland security ...   \n",
       "k9 tyson  fountain county sheriff's office                   in                   fountain county sheriff's office   \n",
       "k9 credo  long beach police department                       ca                       long beach police department   \n",
       "k9 roscoe emmett police department                           id                           emmett police department   \n",
       "\n",
       "                                                                state  \n",
       "k9 bruno  amarillo police department                         tx    tx  \n",
       "k9 lazer  united states department of homeland security -... us    us  \n",
       "k9 tyson  fountain county sheriff's office                   in    in  \n",
       "k9 credo  long beach police department                       ca    ca  \n",
       "k9 roscoe emmett police department                           id    id  "
      ]
     },
     "execution_count": 25,
     "metadata": {},
     "output_type": "execute_result"
    }
   ],
   "source": [
    "data.tail()"
   ]
  },
  {
   "cell_type": "code",
   "execution_count": 26,
   "id": "58132618-598d-4432-82d4-ce49dac8313e",
   "metadata": {},
   "outputs": [
    {
     "data": {
      "text/html": [
       "<div>\n",
       "<style scoped>\n",
       "    .dataframe tbody tr th:only-of-type {\n",
       "        vertical-align: middle;\n",
       "    }\n",
       "\n",
       "    .dataframe tbody tr th {\n",
       "        vertical-align: top;\n",
       "    }\n",
       "\n",
       "    .dataframe thead th {\n",
       "        text-align: right;\n",
       "    }\n",
       "</style>\n",
       "<table border=\"1\" class=\"dataframe\">\n",
       "  <thead>\n",
       "    <tr style=\"text-align: right;\">\n",
       "      <th></th>\n",
       "      <th></th>\n",
       "      <th></th>\n",
       "      <th>person</th>\n",
       "      <th>dept</th>\n",
       "      <th>eow</th>\n",
       "      <th>cause</th>\n",
       "      <th>cause_short</th>\n",
       "      <th>date</th>\n",
       "      <th>year</th>\n",
       "      <th>canine</th>\n",
       "      <th>dept_name</th>\n",
       "      <th>state</th>\n",
       "    </tr>\n",
       "  </thead>\n",
       "  <tbody>\n",
       "    <tr>\n",
       "      <th>constable darius quimby</th>\n",
       "      <th>albany county constable's office</th>\n",
       "      <th>ny</th>\n",
       "      <td>False</td>\n",
       "      <td>False</td>\n",
       "      <td>False</td>\n",
       "      <td>False</td>\n",
       "      <td>False</td>\n",
       "      <td>False</td>\n",
       "      <td>False</td>\n",
       "      <td>False</td>\n",
       "      <td>False</td>\n",
       "      <td>False</td>\n",
       "    </tr>\n",
       "    <tr>\n",
       "      <th>sheriff cornelius hogeboom</th>\n",
       "      <th>columbia county sheriff's office</th>\n",
       "      <th>ny</th>\n",
       "      <td>False</td>\n",
       "      <td>False</td>\n",
       "      <td>False</td>\n",
       "      <td>False</td>\n",
       "      <td>False</td>\n",
       "      <td>False</td>\n",
       "      <td>False</td>\n",
       "      <td>False</td>\n",
       "      <td>False</td>\n",
       "      <td>False</td>\n",
       "    </tr>\n",
       "    <tr>\n",
       "      <th>deputy sheriff isaac smith</th>\n",
       "      <th>westchester county sheriff's department</th>\n",
       "      <th>ny</th>\n",
       "      <td>False</td>\n",
       "      <td>False</td>\n",
       "      <td>False</td>\n",
       "      <td>False</td>\n",
       "      <td>False</td>\n",
       "      <td>False</td>\n",
       "      <td>False</td>\n",
       "      <td>False</td>\n",
       "      <td>False</td>\n",
       "      <td>False</td>\n",
       "    </tr>\n",
       "    <tr>\n",
       "      <th>marshal robert forsyth</th>\n",
       "      <th>united states department of justice - united states marshals service</th>\n",
       "      <th>us</th>\n",
       "      <td>False</td>\n",
       "      <td>False</td>\n",
       "      <td>False</td>\n",
       "      <td>False</td>\n",
       "      <td>False</td>\n",
       "      <td>False</td>\n",
       "      <td>False</td>\n",
       "      <td>False</td>\n",
       "      <td>False</td>\n",
       "      <td>False</td>\n",
       "    </tr>\n",
       "    <tr>\n",
       "      <th>sheriff robert maxwell</th>\n",
       "      <th>greenville county sheriff's office</th>\n",
       "      <th>sc</th>\n",
       "      <td>False</td>\n",
       "      <td>False</td>\n",
       "      <td>False</td>\n",
       "      <td>False</td>\n",
       "      <td>False</td>\n",
       "      <td>False</td>\n",
       "      <td>False</td>\n",
       "      <td>False</td>\n",
       "      <td>False</td>\n",
       "      <td>False</td>\n",
       "    </tr>\n",
       "    <tr>\n",
       "      <th>...</th>\n",
       "      <th>...</th>\n",
       "      <th>...</th>\n",
       "      <td>...</td>\n",
       "      <td>...</td>\n",
       "      <td>...</td>\n",
       "      <td>...</td>\n",
       "      <td>...</td>\n",
       "      <td>...</td>\n",
       "      <td>...</td>\n",
       "      <td>...</td>\n",
       "      <td>...</td>\n",
       "      <td>...</td>\n",
       "    </tr>\n",
       "    <tr>\n",
       "      <th>k9 bruno</th>\n",
       "      <th>amarillo police department</th>\n",
       "      <th>tx</th>\n",
       "      <td>False</td>\n",
       "      <td>False</td>\n",
       "      <td>False</td>\n",
       "      <td>False</td>\n",
       "      <td>False</td>\n",
       "      <td>False</td>\n",
       "      <td>False</td>\n",
       "      <td>False</td>\n",
       "      <td>False</td>\n",
       "      <td>False</td>\n",
       "    </tr>\n",
       "    <tr>\n",
       "      <th>k9 lazer</th>\n",
       "      <th>united states department of homeland security - customs and border protection - united states border patrol</th>\n",
       "      <th>us</th>\n",
       "      <td>False</td>\n",
       "      <td>False</td>\n",
       "      <td>False</td>\n",
       "      <td>False</td>\n",
       "      <td>False</td>\n",
       "      <td>False</td>\n",
       "      <td>False</td>\n",
       "      <td>False</td>\n",
       "      <td>False</td>\n",
       "      <td>False</td>\n",
       "    </tr>\n",
       "    <tr>\n",
       "      <th>k9 tyson</th>\n",
       "      <th>fountain county sheriff's office</th>\n",
       "      <th>in</th>\n",
       "      <td>False</td>\n",
       "      <td>False</td>\n",
       "      <td>False</td>\n",
       "      <td>False</td>\n",
       "      <td>False</td>\n",
       "      <td>False</td>\n",
       "      <td>False</td>\n",
       "      <td>False</td>\n",
       "      <td>False</td>\n",
       "      <td>False</td>\n",
       "    </tr>\n",
       "    <tr>\n",
       "      <th>k9 credo</th>\n",
       "      <th>long beach police department</th>\n",
       "      <th>ca</th>\n",
       "      <td>False</td>\n",
       "      <td>False</td>\n",
       "      <td>False</td>\n",
       "      <td>False</td>\n",
       "      <td>False</td>\n",
       "      <td>False</td>\n",
       "      <td>False</td>\n",
       "      <td>False</td>\n",
       "      <td>False</td>\n",
       "      <td>False</td>\n",
       "    </tr>\n",
       "    <tr>\n",
       "      <th>k9 roscoe</th>\n",
       "      <th>emmett police department</th>\n",
       "      <th>id</th>\n",
       "      <td>False</td>\n",
       "      <td>False</td>\n",
       "      <td>False</td>\n",
       "      <td>False</td>\n",
       "      <td>False</td>\n",
       "      <td>False</td>\n",
       "      <td>False</td>\n",
       "      <td>False</td>\n",
       "      <td>False</td>\n",
       "      <td>False</td>\n",
       "    </tr>\n",
       "  </tbody>\n",
       "</table>\n",
       "<p>21375 rows × 10 columns</p>\n",
       "</div>"
      ],
      "text/plain": [
       "                                                                                  person  \\\n",
       "constable darius quimby    albany county constable's office                   ny   False   \n",
       "sheriff cornelius hogeboom columbia county sheriff's office                   ny   False   \n",
       "deputy sheriff isaac smith westchester county sheriff's department            ny   False   \n",
       "marshal robert forsyth     united states department of justice - united st... us   False   \n",
       "sheriff robert maxwell     greenville county sheriff's office                 sc   False   \n",
       "...                                                                                  ...   \n",
       "k9 bruno                   amarillo police department                         tx   False   \n",
       "k9 lazer                   united states department of homeland security -... us   False   \n",
       "k9 tyson                   fountain county sheriff's office                   in   False   \n",
       "k9 credo                   long beach police department                       ca   False   \n",
       "k9 roscoe                  emmett police department                           id   False   \n",
       "\n",
       "                                                                                   dept  \\\n",
       "constable darius quimby    albany county constable's office                   ny  False   \n",
       "sheriff cornelius hogeboom columbia county sheriff's office                   ny  False   \n",
       "deputy sheriff isaac smith westchester county sheriff's department            ny  False   \n",
       "marshal robert forsyth     united states department of justice - united st... us  False   \n",
       "sheriff robert maxwell     greenville county sheriff's office                 sc  False   \n",
       "...                                                                                 ...   \n",
       "k9 bruno                   amarillo police department                         tx  False   \n",
       "k9 lazer                   united states department of homeland security -... us  False   \n",
       "k9 tyson                   fountain county sheriff's office                   in  False   \n",
       "k9 credo                   long beach police department                       ca  False   \n",
       "k9 roscoe                  emmett police department                           id  False   \n",
       "\n",
       "                                                                                    eow  \\\n",
       "constable darius quimby    albany county constable's office                   ny  False   \n",
       "sheriff cornelius hogeboom columbia county sheriff's office                   ny  False   \n",
       "deputy sheriff isaac smith westchester county sheriff's department            ny  False   \n",
       "marshal robert forsyth     united states department of justice - united st... us  False   \n",
       "sheriff robert maxwell     greenville county sheriff's office                 sc  False   \n",
       "...                                                                                 ...   \n",
       "k9 bruno                   amarillo police department                         tx  False   \n",
       "k9 lazer                   united states department of homeland security -... us  False   \n",
       "k9 tyson                   fountain county sheriff's office                   in  False   \n",
       "k9 credo                   long beach police department                       ca  False   \n",
       "k9 roscoe                  emmett police department                           id  False   \n",
       "\n",
       "                                                                                  cause  \\\n",
       "constable darius quimby    albany county constable's office                   ny  False   \n",
       "sheriff cornelius hogeboom columbia county sheriff's office                   ny  False   \n",
       "deputy sheriff isaac smith westchester county sheriff's department            ny  False   \n",
       "marshal robert forsyth     united states department of justice - united st... us  False   \n",
       "sheriff robert maxwell     greenville county sheriff's office                 sc  False   \n",
       "...                                                                                 ...   \n",
       "k9 bruno                   amarillo police department                         tx  False   \n",
       "k9 lazer                   united states department of homeland security -... us  False   \n",
       "k9 tyson                   fountain county sheriff's office                   in  False   \n",
       "k9 credo                   long beach police department                       ca  False   \n",
       "k9 roscoe                  emmett police department                           id  False   \n",
       "\n",
       "                                                                                  cause_short  \\\n",
       "constable darius quimby    albany county constable's office                   ny        False   \n",
       "sheriff cornelius hogeboom columbia county sheriff's office                   ny        False   \n",
       "deputy sheriff isaac smith westchester county sheriff's department            ny        False   \n",
       "marshal robert forsyth     united states department of justice - united st... us        False   \n",
       "sheriff robert maxwell     greenville county sheriff's office                 sc        False   \n",
       "...                                                                                       ...   \n",
       "k9 bruno                   amarillo police department                         tx        False   \n",
       "k9 lazer                   united states department of homeland security -... us        False   \n",
       "k9 tyson                   fountain county sheriff's office                   in        False   \n",
       "k9 credo                   long beach police department                       ca        False   \n",
       "k9 roscoe                  emmett police department                           id        False   \n",
       "\n",
       "                                                                                   date  \\\n",
       "constable darius quimby    albany county constable's office                   ny  False   \n",
       "sheriff cornelius hogeboom columbia county sheriff's office                   ny  False   \n",
       "deputy sheriff isaac smith westchester county sheriff's department            ny  False   \n",
       "marshal robert forsyth     united states department of justice - united st... us  False   \n",
       "sheriff robert maxwell     greenville county sheriff's office                 sc  False   \n",
       "...                                                                                 ...   \n",
       "k9 bruno                   amarillo police department                         tx  False   \n",
       "k9 lazer                   united states department of homeland security -... us  False   \n",
       "k9 tyson                   fountain county sheriff's office                   in  False   \n",
       "k9 credo                   long beach police department                       ca  False   \n",
       "k9 roscoe                  emmett police department                           id  False   \n",
       "\n",
       "                                                                                   year  \\\n",
       "constable darius quimby    albany county constable's office                   ny  False   \n",
       "sheriff cornelius hogeboom columbia county sheriff's office                   ny  False   \n",
       "deputy sheriff isaac smith westchester county sheriff's department            ny  False   \n",
       "marshal robert forsyth     united states department of justice - united st... us  False   \n",
       "sheriff robert maxwell     greenville county sheriff's office                 sc  False   \n",
       "...                                                                                 ...   \n",
       "k9 bruno                   amarillo police department                         tx  False   \n",
       "k9 lazer                   united states department of homeland security -... us  False   \n",
       "k9 tyson                   fountain county sheriff's office                   in  False   \n",
       "k9 credo                   long beach police department                       ca  False   \n",
       "k9 roscoe                  emmett police department                           id  False   \n",
       "\n",
       "                                                                                  canine  \\\n",
       "constable darius quimby    albany county constable's office                   ny   False   \n",
       "sheriff cornelius hogeboom columbia county sheriff's office                   ny   False   \n",
       "deputy sheriff isaac smith westchester county sheriff's department            ny   False   \n",
       "marshal robert forsyth     united states department of justice - united st... us   False   \n",
       "sheriff robert maxwell     greenville county sheriff's office                 sc   False   \n",
       "...                                                                                  ...   \n",
       "k9 bruno                   amarillo police department                         tx   False   \n",
       "k9 lazer                   united states department of homeland security -... us   False   \n",
       "k9 tyson                   fountain county sheriff's office                   in   False   \n",
       "k9 credo                   long beach police department                       ca   False   \n",
       "k9 roscoe                  emmett police department                           id   False   \n",
       "\n",
       "                                                                                  dept_name  \\\n",
       "constable darius quimby    albany county constable's office                   ny      False   \n",
       "sheriff cornelius hogeboom columbia county sheriff's office                   ny      False   \n",
       "deputy sheriff isaac smith westchester county sheriff's department            ny      False   \n",
       "marshal robert forsyth     united states department of justice - united st... us      False   \n",
       "sheriff robert maxwell     greenville county sheriff's office                 sc      False   \n",
       "...                                                                                     ...   \n",
       "k9 bruno                   amarillo police department                         tx      False   \n",
       "k9 lazer                   united states department of homeland security -... us      False   \n",
       "k9 tyson                   fountain county sheriff's office                   in      False   \n",
       "k9 credo                   long beach police department                       ca      False   \n",
       "k9 roscoe                  emmett police department                           id      False   \n",
       "\n",
       "                                                                                  state  \n",
       "constable darius quimby    albany county constable's office                   ny  False  \n",
       "sheriff cornelius hogeboom columbia county sheriff's office                   ny  False  \n",
       "deputy sheriff isaac smith westchester county sheriff's department            ny  False  \n",
       "marshal robert forsyth     united states department of justice - united st... us  False  \n",
       "sheriff robert maxwell     greenville county sheriff's office                 sc  False  \n",
       "...                                                                                 ...  \n",
       "k9 bruno                   amarillo police department                         tx  False  \n",
       "k9 lazer                   united states department of homeland security -... us  False  \n",
       "k9 tyson                   fountain county sheriff's office                   in  False  \n",
       "k9 credo                   long beach police department                       ca  False  \n",
       "k9 roscoe                  emmett police department                           id  False  \n",
       "\n",
       "[21375 rows x 10 columns]"
      ]
     },
     "execution_count": 26,
     "metadata": {},
     "output_type": "execute_result"
    }
   ],
   "source": [
    " data.isnull()"
   ]
  },
  {
   "cell_type": "code",
   "execution_count": 27,
   "id": "86833ca2-3af4-45c3-b3b8-75424c257a35",
   "metadata": {},
   "outputs": [
    {
     "data": {
      "text/plain": [
       "person         0\n",
       "dept           0\n",
       "eow            0\n",
       "cause          0\n",
       "cause_short    0\n",
       "date           0\n",
       "year           0\n",
       "canine         0\n",
       "dept_name      0\n",
       "state          0\n",
       "dtype: int64"
      ]
     },
     "execution_count": 27,
     "metadata": {},
     "output_type": "execute_result"
    }
   ],
   "source": [
    "#check missing values (zeyadet ta2keed)\n",
    "data.isna().sum()"
   ]
  },
  {
   "cell_type": "code",
   "execution_count": 28,
   "id": "02c709a9-b925-437b-b583-80fbb01027da",
   "metadata": {},
   "outputs": [
    {
     "name": "stdout",
     "output_type": "stream",
     "text": [
      "853\n"
     ]
    }
   ],
   "source": [
    "#check duplication,before drop\n",
    "dup= data.duplicated().sum()\n",
    "print(dup)"
   ]
  },
  {
   "cell_type": "code",
   "execution_count": 29,
   "id": "8f3eb1fa-5a01-4890-99a2-e1181b6995bb",
   "metadata": {},
   "outputs": [],
   "source": [
    "# drop only , if you have duplicated\n",
    "data.dropna(inplace=True)"
   ]
  },
  {
   "cell_type": "code",
   "execution_count": 30,
   "id": "2bf949d7-beee-47f1-9853-8d8b25ca4961",
   "metadata": {},
   "outputs": [],
   "source": [
    "data.drop_duplicates(inplace=True)"
   ]
  },
  {
   "cell_type": "code",
   "execution_count": 31,
   "id": "36da37d5-1d2f-4ea9-9360-cdd07f2e6cbd",
   "metadata": {},
   "outputs": [
    {
     "data": {
      "text/plain": [
       "(20522, 10)"
      ]
     },
     "execution_count": 31,
     "metadata": {},
     "output_type": "execute_result"
    }
   ],
   "source": [
    "mask= data.isnull().any(axis=0)\n",
    "#only data columns\n",
    "cols_without_nan = data.columns[~mask]\n",
    "new=data[cols_without_nan]\n",
    "new.shape"
   ]
  },
  {
   "cell_type": "code",
   "execution_count": 32,
   "id": "b2670470-6e6f-483c-9839-a8130f45cc28",
   "metadata": {},
   "outputs": [
    {
     "data": {
      "text/plain": [
       "person         0\n",
       "dept           0\n",
       "eow            0\n",
       "cause          0\n",
       "cause_short    0\n",
       "date           0\n",
       "year           0\n",
       "canine         0\n",
       "dept_name      0\n",
       "state          0\n",
       "dtype: int64"
      ]
     },
     "execution_count": 32,
     "metadata": {},
     "output_type": "execute_result"
    }
   ],
   "source": [
    "new.isna().sum()"
   ]
  },
  {
   "cell_type": "code",
   "execution_count": 33,
   "id": "3f79c9ed-f66b-48f2-a908-2e0209bc4239",
   "metadata": {
    "scrolled": true
   },
   "outputs": [
    {
     "data": {
      "text/plain": [
       "constable darius quimby     albany county constable's office                                                                             ny    False\n",
       "sheriff cornelius hogeboom  columbia county sheriff's office                                                                             ny    False\n",
       "deputy sheriff isaac smith  westchester county sheriff's department                                                                      ny    False\n",
       "marshal robert forsyth      united states department of justice - united states marshals service                                         us    False\n",
       "sheriff robert maxwell      greenville county sheriff's office                                                                           sc    False\n",
       "                                                                                                                                               ...  \n",
       "k9 bruno                    amarillo police department                                                                                   tx    False\n",
       "k9 lazer                    united states department of homeland security - customs and border protection - united states border patrol  us    False\n",
       "k9 tyson                    fountain county sheriff's office                                                                             in    False\n",
       "k9 credo                    long beach police department                                                                                 ca    False\n",
       "k9 roscoe                   emmett police department                                                                                     id    False\n",
       "Length: 20522, dtype: bool"
      ]
     },
     "execution_count": 33,
     "metadata": {},
     "output_type": "execute_result"
    }
   ],
   "source": [
    "new.isnull().any(axis=1)"
   ]
  },
  {
   "cell_type": "code",
   "execution_count": 34,
   "id": "82b05d2e-b824-4224-ac37-5bb4185bc588",
   "metadata": {},
   "outputs": [
    {
     "name": "stdout",
     "output_type": "stream",
     "text": [
      "constable darius quimby     albany county constable's office                                                                             ny      eow: monday\n",
      "sheriff cornelius hogeboom  columbia county sheriff's office                                                                             ny    eow: saturday\n",
      "deputy sheriff isaac smith  westchester county sheriff's department                                                                      ny    eow: thursday\n",
      "marshal robert forsyth      united states department of justice - united states marshals service                                         us    eow: saturday\n",
      "sheriff robert maxwell      greenville county sheriff's office                                                                           sc      eow: sunday\n",
      "                                                                                                                                                   ...      \n",
      "k9 bruno                    amarillo police department                                                                                   tx      eow: sunday\n",
      "k9 lazer                    united states department of homeland security - customs and border protection - united states border patrol  us      eow: monday\n",
      "k9 tyson                    fountain county sheriff's office                                                                             in      eow: monday\n",
      "k9 credo                    long beach police department                                                                                 ca     eow: tuesday\n",
      "k9 roscoe                   emmett police department                                                                                     id      eow: friday\n",
      "Name: person, Length: 20522, dtype: object\n"
     ]
    }
   ],
   "source": [
    "# This works if the column name is a simple string without spaces (e.g., 'age')\n",
    "column_data = data.person\n",
    "print(column_data)\n"
   ]
  },
  {
   "cell_type": "code",
   "execution_count": 35,
   "id": "646b5b22-c5db-40c5-a240-8062879c8561",
   "metadata": {},
   "outputs": [],
   "source": [
    "# now , we will save our data as csv for visualization\n",
    "#pd.sav.new (header=True)\n",
    "#new.to_csv('DSpro.csv', index=False, header=True)\n",
    "new.to_csv('gg.csv', index=False, header=True)"
   ]
  },
  {
   "cell_type": "code",
   "execution_count": 42,
   "id": "3a67144c",
   "metadata": {},
   "outputs": [],
   "source": [
    "data=pd.read_csv('gg.csv')"
   ]
  },
  {
   "cell_type": "code",
   "execution_count": 43,
   "id": "e42a090d-9555-4d19-a18b-3f7fefcb8f6c",
   "metadata": {},
   "outputs": [],
   "source": [
    "#encoding the categorical to numerical so we can normalize the data\n",
    "from sklearn.preprocessing import LabelEncoder\n",
    "from sklearn.preprocessing import OneHotEncoder"
   ]
  },
  {
   "cell_type": "code",
   "execution_count": 44,
   "id": "e70dac4a-74e4-4e62-8fa8-6ce3d5c3f613",
   "metadata": {},
   "outputs": [],
   "source": [
    "le = LabelEncoder() "
   ]
  },
  {
   "cell_type": "code",
   "execution_count": 45,
   "id": "7c2364e4-5c89-47b3-8726-6f924246a3ae",
   "metadata": {},
   "outputs": [],
   "source": [
    "data['person_encoded'] = le.fit_transform(data['person']) "
   ]
  },
  {
   "cell_type": "code",
   "execution_count": 46,
   "id": "c26ce277-f9a9-4b6c-a7bd-b072c4c4b084",
   "metadata": {},
   "outputs": [
    {
     "name": "stdout",
     "output_type": "stream",
     "text": [
      "\n",
      "Data after Label Encoding:\n",
      "          person  person_encoded\n",
      "0    eow: monday               1\n",
      "1  eow: saturday               2\n",
      "2  eow: thursday               4\n",
      "3  eow: saturday               2\n",
      "4    eow: sunday               3\n"
     ]
    }
   ],
   "source": [
    "print(\"\\nData after Label Encoding:\")\n",
    "print(data[['person', 'person_encoded']].head())"
   ]
  },
  {
   "cell_type": "code",
   "execution_count": 47,
   "id": "8900ed52",
   "metadata": {},
   "outputs": [
    {
     "data": {
      "text/html": [
       "<div>\n",
       "<style scoped>\n",
       "    .dataframe tbody tr th:only-of-type {\n",
       "        vertical-align: middle;\n",
       "    }\n",
       "\n",
       "    .dataframe tbody tr th {\n",
       "        vertical-align: top;\n",
       "    }\n",
       "\n",
       "    .dataframe thead th {\n",
       "        text-align: right;\n",
       "    }\n",
       "</style>\n",
       "<table border=\"1\" class=\"dataframe\">\n",
       "  <thead>\n",
       "    <tr style=\"text-align: right;\">\n",
       "      <th></th>\n",
       "      <th>person_encoded</th>\n",
       "    </tr>\n",
       "  </thead>\n",
       "  <tbody>\n",
       "    <tr>\n",
       "      <th>0</th>\n",
       "      <td>1</td>\n",
       "    </tr>\n",
       "    <tr>\n",
       "      <th>1</th>\n",
       "      <td>2</td>\n",
       "    </tr>\n",
       "    <tr>\n",
       "      <th>2</th>\n",
       "      <td>4</td>\n",
       "    </tr>\n",
       "    <tr>\n",
       "      <th>3</th>\n",
       "      <td>2</td>\n",
       "    </tr>\n",
       "    <tr>\n",
       "      <th>4</th>\n",
       "      <td>3</td>\n",
       "    </tr>\n",
       "    <tr>\n",
       "      <th>...</th>\n",
       "      <td>...</td>\n",
       "    </tr>\n",
       "    <tr>\n",
       "      <th>20517</th>\n",
       "      <td>3</td>\n",
       "    </tr>\n",
       "    <tr>\n",
       "      <th>20518</th>\n",
       "      <td>1</td>\n",
       "    </tr>\n",
       "    <tr>\n",
       "      <th>20519</th>\n",
       "      <td>1</td>\n",
       "    </tr>\n",
       "    <tr>\n",
       "      <th>20520</th>\n",
       "      <td>5</td>\n",
       "    </tr>\n",
       "    <tr>\n",
       "      <th>20521</th>\n",
       "      <td>0</td>\n",
       "    </tr>\n",
       "  </tbody>\n",
       "</table>\n",
       "<p>20522 rows × 1 columns</p>\n",
       "</div>"
      ],
      "text/plain": [
       "       person_encoded\n",
       "0                   1\n",
       "1                   2\n",
       "2                   4\n",
       "3                   2\n",
       "4                   3\n",
       "...               ...\n",
       "20517               3\n",
       "20518               1\n",
       "20519               1\n",
       "20520               5\n",
       "20521               0\n",
       "\n",
       "[20522 rows x 1 columns]"
      ]
     },
     "execution_count": 47,
     "metadata": {},
     "output_type": "execute_result"
    }
   ],
   "source": [
    "data[['person_encoded']]"
   ]
  },
  {
   "cell_type": "code",
   "execution_count": 48,
   "id": "4b27903b-a94e-493a-96a8-ec5ad8377211",
   "metadata": {},
   "outputs": [],
   "source": [
    "data['dept_encoded'] = le.fit_transform(data['dept']) "
   ]
  },
  {
   "cell_type": "code",
   "execution_count": 49,
   "id": "c62288e4-abfc-41b1-ac17-eeff52099ac8",
   "metadata": {},
   "outputs": [
    {
     "name": "stdout",
     "output_type": "stream",
     "text": [
      "\n",
      "Data after Label Encoding:\n",
      "           dept  dept_encoded\n",
      "0     january 3           143\n",
      "1    october 22           319\n",
      "2        may 17           252\n",
      "3    january 11           123\n",
      "4   november 12           278\n"
     ]
    }
   ],
   "source": [
    "print(\"\\nData after Label Encoding:\")\n",
    "print(data[['dept', 'dept_encoded']].head())"
   ]
  },
  {
   "cell_type": "code",
   "execution_count": 50,
   "id": "fad41b85-3a75-454d-87cd-2b1c286934ef",
   "metadata": {},
   "outputs": [],
   "source": [
    "data['cause_encoded'] = le.fit_transform(data['cause']) "
   ]
  },
  {
   "cell_type": "code",
   "execution_count": 51,
   "id": "432e13e0-c4c5-4f75-8747-b5a88376a0a2",
   "metadata": {},
   "outputs": [
    {
     "name": "stdout",
     "output_type": "stream",
     "text": [
      "\n",
      "Data after Label Encoding:\n",
      "                     cause  cause_encoded\n",
      "0  cause of death: gunfire             18\n",
      "1  cause of death: gunfire             18\n",
      "2  cause of death: gunfire             18\n",
      "3  cause of death: gunfire             18\n",
      "4  cause of death: gunfire             18\n"
     ]
    }
   ],
   "source": [
    "print(\"\\nData after Label Encoding:\")\n",
    "print(data[['cause', 'cause_encoded']].head())"
   ]
  },
  {
   "cell_type": "code",
   "execution_count": 52,
   "id": "1e0dc86c-e280-49ee-b40e-d72d3da8902a",
   "metadata": {},
   "outputs": [],
   "source": [
    "data['cause_short_encoded'] = le.fit_transform(data['cause_short']) "
   ]
  },
  {
   "cell_type": "code",
   "execution_count": 53,
   "id": "15a79e49-668d-45a2-9ce9-da269b858489",
   "metadata": {},
   "outputs": [
    {
     "name": "stdout",
     "output_type": "stream",
     "text": [
      "\n",
      "Data after Label Encoding:\n",
      "  cause_short  cause_short_encoded\n",
      "0     gunfire                   18\n",
      "1     gunfire                   18\n",
      "2     gunfire                   18\n",
      "3     gunfire                   18\n",
      "4     gunfire                   18\n"
     ]
    }
   ],
   "source": [
    "print(\"\\nData after Label Encoding:\")\n",
    "print(data[['cause_short', 'cause_short_encoded']].head())"
   ]
  },
  {
   "cell_type": "code",
   "execution_count": 54,
   "id": "b66ab2ea-2fc3-4711-8ecc-be94570b1d6b",
   "metadata": {},
   "outputs": [],
   "source": [
    "data['date_encoded'] = le.fit_transform(data['date']) "
   ]
  },
  {
   "cell_type": "code",
   "execution_count": 55,
   "id": "bf6cc60a-b179-418e-8828-b7cc163ecf40",
   "metadata": {},
   "outputs": [
    {
     "name": "stdout",
     "output_type": "stream",
     "text": [
      "\n",
      "Data after Label Encoding:\n",
      "         date  date_encoded\n",
      "0  1791-01-03             0\n",
      "1  1791-10-22             1\n",
      "2  1792-05-17             2\n",
      "3  1794-01-11             3\n",
      "4  1797-11-12             4\n"
     ]
    }
   ],
   "source": [
    "print(\"\\nData after Label Encoding:\")\n",
    "print(data[['date', 'date_encoded']].head())"
   ]
  },
  {
   "cell_type": "code",
   "execution_count": 56,
   "id": "63256033-9d93-4c9d-9861-b3dbebe0cbac",
   "metadata": {},
   "outputs": [],
   "source": [
    "data['dept_name_encoded'] = le.fit_transform(data['dept_name']) "
   ]
  },
  {
   "cell_type": "code",
   "execution_count": 57,
   "id": "f1544d38-95b8-4001-9dbe-cd99a5e5df97",
   "metadata": {},
   "outputs": [
    {
     "name": "stdout",
     "output_type": "stream",
     "text": [
      "\n",
      "Data after Label Encoding:\n",
      "                                           dept_name  \\\n",
      "0                   albany county constable's office   \n",
      "1                   columbia county sheriff's office   \n",
      "2            westchester county sheriff's department   \n",
      "3  united states department of justice - united s...   \n",
      "4                 greenville county sheriff's office   \n",
      "\n",
      "                                           dept_name  \n",
      "0                   albany county constable's office  \n",
      "1                   columbia county sheriff's office  \n",
      "2            westchester county sheriff's department  \n",
      "3  united states department of justice - united s...  \n",
      "4                 greenville county sheriff's office  \n"
     ]
    }
   ],
   "source": [
    "print(\"\\nData after Label Encoding:\")\n",
    "print(data[['dept_name', 'dept_name']].head())"
   ]
  },
  {
   "cell_type": "code",
   "execution_count": 58,
   "id": "1e397291-c567-4ad7-86fc-dff15789b7b0",
   "metadata": {},
   "outputs": [],
   "source": [
    "data['state_encoded'] = le.fit_transform(data['state']) "
   ]
  },
  {
   "cell_type": "code",
   "execution_count": 59,
   "id": "ca41245a-ad0b-4c5c-83ea-b373b05f198a",
   "metadata": {},
   "outputs": [
    {
     "name": "stdout",
     "output_type": "stream",
     "text": [
      "\n",
      "Data after Label Encoding:\n",
      "  state state\n",
      "0    ny    ny\n",
      "1    ny    ny\n",
      "2    ny    ny\n",
      "3    us    us\n",
      "4    sc    sc\n"
     ]
    }
   ],
   "source": [
    "print(\"\\nData after Label Encoding:\")\n",
    "print(data[['state', 'state']].head())"
   ]
  },
  {
   "cell_type": "code",
   "execution_count": 60,
   "id": "e50b45d3-d0e4-438d-b868-96c3067cd6be",
   "metadata": {},
   "outputs": [],
   "source": [
    "data_encoded = pd.get_dummies(data, columns=['dept', 'cause' , 'person' , 'cause_short' , 'date' , 'dept_name' , 'state'])"
   ]
  },
  {
   "cell_type": "code",
   "execution_count": 61,
   "id": "a2f55da5-1c04-430e-9981-20ac7212327e",
   "metadata": {},
   "outputs": [],
   "source": [
    "data_one_hot = pd.get_dummies(data, columns=['dept', 'cause' , 'person' , 'cause_short' , 'date' , 'dept_name' , 'state'])"
   ]
  },
  {
   "cell_type": "code",
   "execution_count": 62,
   "id": "9ce50bc1-aa58-41b2-ab04-a941006049ea",
   "metadata": {},
   "outputs": [
    {
     "name": "stdout",
     "output_type": "stream",
     "text": [
      "\n",
      "Data after One-Hot Encoding:\n",
      "    eow  year  canine  person_encoded  dept_encoded  cause_encoded  \\\n",
      "0  1791  1791   False               1           143             18   \n",
      "1  1791  1791   False               2           319             18   \n",
      "2  1792  1792   False               4           252             18   \n",
      "3  1794  1794   False               2           123             18   \n",
      "4  1797  1797   False               3           278             18   \n",
      "\n",
      "   cause_short_encoded  date_encoded  dept_name_encoded  state_encoded  ...  \\\n",
      "0                   18             0                 52             38  ...   \n",
      "1                   18             1                961             38  ...   \n",
      "2                   18             2               5096             38  ...   \n",
      "3                   18             3               4792             51  ...   \n",
      "4                   18             4               1850             46  ...   \n",
      "\n",
      "   state_ tx  state_ us  state_ ut  state_ va  state_ vi  state_ vt  \\\n",
      "0      False      False      False      False      False      False   \n",
      "1      False      False      False      False      False      False   \n",
      "2      False      False      False      False      False      False   \n",
      "3      False       True      False      False      False      False   \n",
      "4      False      False      False      False      False      False   \n",
      "\n",
      "   state_ wa  state_ wi  state_ wv  state_ wy  \n",
      "0      False      False      False      False  \n",
      "1      False      False      False      False  \n",
      "2      False      False      False      False  \n",
      "3      False      False      False      False  \n",
      "4      False      False      False      False  \n",
      "\n",
      "[5 rows x 22164 columns]\n"
     ]
    }
   ],
   "source": [
    "print(\"\\nData after One-Hot Encoding:\")\n",
    "print(data_one_hot.head())"
   ]
  },
  {
   "cell_type": "code",
   "execution_count": 63,
   "id": "ff5dc587-6596-456b-98de-c133d7ee052d",
   "metadata": {},
   "outputs": [
    {
     "name": "stdout",
     "output_type": "stream",
     "text": [
      "\n",
      "Data after One-Hot Encoding:\n",
      "        eow  year  canine  person_encoded  dept_encoded  cause_encoded  \\\n",
      "20517  2016  2016    True               3           186              1   \n",
      "20518  2016  2016    True               1           195             21   \n",
      "20519  2016  2016    True               1           202             21   \n",
      "20520  2016  2016    True               5           203             19   \n",
      "20521  2016  2016    True               0           152              6   \n",
      "\n",
      "       cause_short_encoded  date_encoded  dept_name_encoded  state_encoded  \\\n",
      "20517                    1         16328                103             50   \n",
      "20518                   21         16333               4774             51   \n",
      "20519                   21         16334               1607             18   \n",
      "20520                   19         16335               2638              5   \n",
      "20521                    6         16337               1410             16   \n",
      "\n",
      "       ...  state_ tx  state_ us  state_ ut  state_ va  state_ vi  state_ vt  \\\n",
      "20517  ...       True      False      False      False      False      False   \n",
      "20518  ...      False       True      False      False      False      False   \n",
      "20519  ...      False      False      False      False      False      False   \n",
      "20520  ...      False      False      False      False      False      False   \n",
      "20521  ...      False      False      False      False      False      False   \n",
      "\n",
      "       state_ wa  state_ wi  state_ wv  state_ wy  \n",
      "20517      False      False      False      False  \n",
      "20518      False      False      False      False  \n",
      "20519      False      False      False      False  \n",
      "20520      False      False      False      False  \n",
      "20521      False      False      False      False  \n",
      "\n",
      "[5 rows x 22164 columns]\n"
     ]
    }
   ],
   "source": [
    "print(\"\\nData after One-Hot Encoding:\")\n",
    "print(data_one_hot.tail())"
   ]
  },
  {
   "cell_type": "code",
   "execution_count": 64,
   "id": "a591056f-0c2c-453c-bf6a-e2257c696151",
   "metadata": {},
   "outputs": [
    {
     "data": {
      "text/plain": [
       "person                 object\n",
       "dept                   object\n",
       "eow                     int64\n",
       "cause                  object\n",
       "cause_short            object\n",
       "date                   object\n",
       "year                    int64\n",
       "canine                   bool\n",
       "dept_name              object\n",
       "state                  object\n",
       "person_encoded          int32\n",
       "dept_encoded            int32\n",
       "cause_encoded           int32\n",
       "cause_short_encoded     int32\n",
       "date_encoded            int32\n",
       "dept_name_encoded       int32\n",
       "state_encoded           int32\n",
       "dtype: object"
      ]
     },
     "execution_count": 64,
     "metadata": {},
     "output_type": "execute_result"
    }
   ],
   "source": [
    "data.dtypes"
   ]
  },
  {
   "cell_type": "code",
   "execution_count": 65,
   "id": "31b07f25-6bce-400e-9ed2-37f870782c1c",
   "metadata": {},
   "outputs": [],
   "source": [
    "#normalization after converting categorical into numerical\n",
    "from sklearn.preprocessing import MinMaxScaler, StandardScaler"
   ]
  },
  {
   "cell_type": "code",
   "execution_count": 66,
   "id": "1cb854ea-0c45-4bc2-aef7-f1c742927d34",
   "metadata": {},
   "outputs": [],
   "source": [
    "#nsures that the original data remains unchanged \n",
    "min_max_scaler = MinMaxScaler()\n",
    "standard_scaler = StandardScaler()"
   ]
  },
  {
   "cell_type": "code",
   "execution_count": 67,
   "id": "0f5cb733-1798-458a-81b9-90a6dd9f8554",
   "metadata": {},
   "outputs": [],
   "source": [
    "data_min_max_scaled = data_encoded.copy()  # Make a copy to keep the original encoded data\n",
    "# to select columns that are either int64 or float64, typical data types for numeric columns.\n",
    "numeric_columns_min_max = data_min_max_scaled.select_dtypes(include=['int64', 'float64', 'int32']).columns\n",
    "data_min_max_scaled[numeric_columns_min_max] = min_max_scaler.fit_transform(data_min_max_scaled[numeric_columns_min_max]) \n",
    "#(calculating the minimum and maximum values of the data), and then transforms the data by scaling it to a range, typically [0, 1]."
   ]
  },
  {
   "cell_type": "code",
   "execution_count": 68,
   "id": "6fb94b9f-4031-4476-886f-817b77dd953e",
   "metadata": {},
   "outputs": [],
   "source": [
    "data_standard_scaled = data_encoded.copy()  # Make another copy\n",
    "numeric_columns_standard = data_standard_scaled.select_dtypes(include=['int64', 'float64']).columns\n",
    "data_standard_scaled[numeric_columns_standard] = standard_scaler.fit_transform(data_standard_scaled[numeric_columns_standard])"
   ]
  },
  {
   "cell_type": "code",
   "execution_count": 69,
   "id": "c5d114c3-094d-4130-843d-0097357d0a59",
   "metadata": {},
   "outputs": [
    {
     "name": "stdout",
     "output_type": "stream",
     "text": [
      "Data after Min-Max Scaling:\n",
      "        eow      year  canine  person_encoded  dept_encoded  cause_encoded  \\\n",
      "0  0.000000  0.000000   False        0.166667      0.391781       0.514286   \n",
      "1  0.000000  0.000000   False        0.333333      0.873973       0.514286   \n",
      "2  0.004444  0.004444   False        0.666667      0.690411       0.514286   \n",
      "3  0.013333  0.013333   False        0.333333      0.336986       0.514286   \n",
      "4  0.026667  0.026667   False        0.500000      0.761644       0.514286   \n",
      "\n",
      "   cause_short_encoded  date_encoded  dept_name_encoded  state_encoded  ...  \\\n",
      "0             0.514286      0.000000           0.009795       0.644068  ...   \n",
      "1             0.514286      0.000061           0.181013       0.644068  ...   \n",
      "2             0.514286      0.000122           0.959879       0.644068  ...   \n",
      "3             0.514286      0.000184           0.902618       0.864407  ...   \n",
      "4             0.514286      0.000245           0.348465       0.779661  ...   \n",
      "\n",
      "   state_ tx  state_ us  state_ ut  state_ va  state_ vi  state_ vt  \\\n",
      "0      False      False      False      False      False      False   \n",
      "1      False      False      False      False      False      False   \n",
      "2      False      False      False      False      False      False   \n",
      "3      False       True      False      False      False      False   \n",
      "4      False      False      False      False      False      False   \n",
      "\n",
      "   state_ wa  state_ wi  state_ wv  state_ wy  \n",
      "0      False      False      False      False  \n",
      "1      False      False      False      False  \n",
      "2      False      False      False      False  \n",
      "3      False      False      False      False  \n",
      "4      False      False      False      False  \n",
      "\n",
      "[5 rows x 22164 columns]\n"
     ]
    }
   ],
   "source": [
    "#Data after Min-Max Scalingl:\n",
    "print(\"Data after Min-Max Scaling:\")\n",
    "print(data_min_max_scaled.head())"
   ]
  },
  {
   "cell_type": "code",
   "execution_count": 70,
   "id": "1a3a3aeb-55f2-419e-be7d-16c99682403f",
   "metadata": {},
   "outputs": [
    {
     "name": "stdout",
     "output_type": "stream",
     "text": [
      "Data after Min-Max Scaling:\n",
      "       eow  year  canine  person_encoded  dept_encoded  cause_encoded  \\\n",
      "20517  1.0   1.0    True        0.500000      0.509589       0.028571   \n",
      "20518  1.0   1.0    True        0.166667      0.534247       0.600000   \n",
      "20519  1.0   1.0    True        0.166667      0.553425       0.600000   \n",
      "20520  1.0   1.0    True        0.833333      0.556164       0.542857   \n",
      "20521  1.0   1.0    True        0.000000      0.416438       0.171429   \n",
      "\n",
      "       cause_short_encoded  date_encoded  dept_name_encoded  state_encoded  \\\n",
      "20517             0.028571      0.999388           0.019401       0.847458   \n",
      "20518             0.600000      0.999694           0.899228       0.864407   \n",
      "20519             0.600000      0.999755           0.302694       0.305085   \n",
      "20520             0.542857      0.999816           0.496892       0.084746   \n",
      "20521             0.171429      0.999939           0.265587       0.271186   \n",
      "\n",
      "       ...  state_ tx  state_ us  state_ ut  state_ va  state_ vi  state_ vt  \\\n",
      "20517  ...       True      False      False      False      False      False   \n",
      "20518  ...      False       True      False      False      False      False   \n",
      "20519  ...      False      False      False      False      False      False   \n",
      "20520  ...      False      False      False      False      False      False   \n",
      "20521  ...      False      False      False      False      False      False   \n",
      "\n",
      "       state_ wa  state_ wi  state_ wv  state_ wy  \n",
      "20517      False      False      False      False  \n",
      "20518      False      False      False      False  \n",
      "20519      False      False      False      False  \n",
      "20520      False      False      False      False  \n",
      "20521      False      False      False      False  \n",
      "\n",
      "[5 rows x 22164 columns]\n"
     ]
    }
   ],
   "source": [
    "#Data after Min-Max Scalingl:\n",
    "print(\"Data after Min-Max Scaling:\")\n",
    "print(data_min_max_scaled.tail())"
   ]
  },
  {
   "cell_type": "code",
   "execution_count": 71,
   "id": "2ced6e9f-34c6-4cf7-b5e4-d5e3635cc96f",
   "metadata": {},
   "outputs": [
    {
     "name": "stdout",
     "output_type": "stream",
     "text": [
      "Data after Standard Scaling:\n",
      "        eow      year  canine  person_encoded  dept_encoded  cause_encoded  \\\n",
      "0 -4.194898 -4.194898   False               1           143             18   \n",
      "1 -4.194898 -4.194898   False               2           319             18   \n",
      "2 -4.168550 -4.168550   False               4           252             18   \n",
      "3 -4.115855 -4.115855   False               2           123             18   \n",
      "4 -4.036812 -4.036812   False               3           278             18   \n",
      "\n",
      "   cause_short_encoded  date_encoded  dept_name_encoded  state_encoded  ...  \\\n",
      "0                   18             0                 52             38  ...   \n",
      "1                   18             1                961             38  ...   \n",
      "2                   18             2               5096             38  ...   \n",
      "3                   18             3               4792             51  ...   \n",
      "4                   18             4               1850             46  ...   \n",
      "\n",
      "   state_ tx  state_ us  state_ ut  state_ va  state_ vi  state_ vt  \\\n",
      "0      False      False      False      False      False      False   \n",
      "1      False      False      False      False      False      False   \n",
      "2      False      False      False      False      False      False   \n",
      "3      False       True      False      False      False      False   \n",
      "4      False      False      False      False      False      False   \n",
      "\n",
      "   state_ wa  state_ wi  state_ wv  state_ wy  \n",
      "0      False      False      False      False  \n",
      "1      False      False      False      False  \n",
      "2      False      False      False      False  \n",
      "3      False      False      False      False  \n",
      "4      False      False      False      False  \n",
      "\n",
      "[5 rows x 22164 columns]\n"
     ]
    }
   ],
   "source": [
    "#Data after Standard Scaling:\n",
    "print(\"Data after Standard Scaling:\")\n",
    "print(data_standard_scaled.head())"
   ]
  },
  {
   "cell_type": "code",
   "execution_count": 72,
   "id": "d8e34761-a551-4d2d-a00d-7e71e30e12bd",
   "metadata": {},
   "outputs": [
    {
     "name": "stdout",
     "output_type": "stream",
     "text": [
      "Data after Standard Scaling:\n",
      "            eow      year  canine  person_encoded  dept_encoded  \\\n",
      "20517  1.733312  1.733312    True               3           186   \n",
      "20518  1.733312  1.733312    True               1           195   \n",
      "20519  1.733312  1.733312    True               1           202   \n",
      "20520  1.733312  1.733312    True               5           203   \n",
      "20521  1.733312  1.733312    True               0           152   \n",
      "\n",
      "       cause_encoded  cause_short_encoded  date_encoded  dept_name_encoded  \\\n",
      "20517              1                    1         16328                103   \n",
      "20518             21                   21         16333               4774   \n",
      "20519             21                   21         16334               1607   \n",
      "20520             19                   19         16335               2638   \n",
      "20521              6                    6         16337               1410   \n",
      "\n",
      "       state_encoded  ...  state_ tx  state_ us  state_ ut  state_ va  \\\n",
      "20517             50  ...       True      False      False      False   \n",
      "20518             51  ...      False       True      False      False   \n",
      "20519             18  ...      False      False      False      False   \n",
      "20520              5  ...      False      False      False      False   \n",
      "20521             16  ...      False      False      False      False   \n",
      "\n",
      "       state_ vi  state_ vt  state_ wa  state_ wi  state_ wv  state_ wy  \n",
      "20517      False      False      False      False      False      False  \n",
      "20518      False      False      False      False      False      False  \n",
      "20519      False      False      False      False      False      False  \n",
      "20520      False      False      False      False      False      False  \n",
      "20521      False      False      False      False      False      False  \n",
      "\n",
      "[5 rows x 22164 columns]\n"
     ]
    }
   ],
   "source": [
    "#Data after Standard Scaling:\n",
    "print(\"Data after Standard Scaling:\")\n",
    "print(data_standard_scaled.tail())"
   ]
  },
  {
   "cell_type": "code",
   "execution_count": 73,
   "id": "d9fbed73-f05d-4222-a354-d5f46d6cbee0",
   "metadata": {},
   "outputs": [
    {
     "name": "stdout",
     "output_type": "stream",
     "text": [
      "0          eow: monday\n",
      "1        eow: saturday\n",
      "2        eow: thursday\n",
      "3        eow: saturday\n",
      "4          eow: sunday\n",
      "             ...      \n",
      "20517      eow: sunday\n",
      "20518      eow: monday\n",
      "20519      eow: monday\n",
      "20520     eow: tuesday\n",
      "20521      eow: friday\n",
      "Name: person, Length: 20522, dtype: object\n"
     ]
    }
   ],
   "source": [
    "# This works if the column name is a simple string without spaces (e.g., 'age')\n",
    "column_data = data.person\n",
    "print(column_data)\n"
   ]
  },
  {
   "cell_type": "code",
   "execution_count": 74,
   "id": "47077b29-311e-4633-a411-6eaddd4e7b7b",
   "metadata": {},
   "outputs": [],
   "source": [
    "# here we will start machine learning"
   ]
  },
  {
   "cell_type": "code",
   "execution_count": 75,
   "id": "da0259f6-fd7f-493d-bb81-ba36d9baba5a",
   "metadata": {},
   "outputs": [
    {
     "name": "stdout",
     "output_type": "stream",
     "text": [
      "<class 'pandas.core.frame.DataFrame'>\n",
      "RangeIndex: 20522 entries, 0 to 20521\n",
      "Data columns (total 17 columns):\n",
      " #   Column               Non-Null Count  Dtype \n",
      "---  ------               --------------  ----- \n",
      " 0   person               20522 non-null  object\n",
      " 1   dept                 20522 non-null  object\n",
      " 2   eow                  20522 non-null  int64 \n",
      " 3   cause                20522 non-null  object\n",
      " 4   cause_short          20522 non-null  object\n",
      " 5   date                 20522 non-null  object\n",
      " 6   year                 20522 non-null  int64 \n",
      " 7   canine               20522 non-null  bool  \n",
      " 8   dept_name            20522 non-null  object\n",
      " 9   state                20522 non-null  object\n",
      " 10  person_encoded       20522 non-null  int32 \n",
      " 11  dept_encoded         20522 non-null  int32 \n",
      " 12  cause_encoded        20522 non-null  int32 \n",
      " 13  cause_short_encoded  20522 non-null  int32 \n",
      " 14  date_encoded         20522 non-null  int32 \n",
      " 15  dept_name_encoded    20522 non-null  int32 \n",
      " 16  state_encoded        20522 non-null  int32 \n",
      "dtypes: bool(1), int32(7), int64(2), object(7)\n",
      "memory usage: 2.0+ MB\n",
      "None\n"
     ]
    }
   ],
   "source": [
    "print(data.info())"
   ]
  },
  {
   "cell_type": "code",
   "execution_count": 76,
   "id": "ac5c2c90-c3c9-4346-8f3b-44204f132463",
   "metadata": {},
   "outputs": [
    {
     "name": "stdout",
     "output_type": "stream",
     "text": [
      "                eow          year  person_encoded  dept_encoded  \\\n",
      "count  20522.000000  20522.000000    20522.000000  20522.000000   \n",
      "mean    1950.213673   1950.213673        2.951321    182.300750   \n",
      "std       37.955048     37.955048        1.979407    106.692079   \n",
      "min     1791.000000   1791.000000        0.000000      0.000000   \n",
      "25%     1923.000000   1923.000000        1.000000     88.000000   \n",
      "50%     1948.000000   1948.000000        3.000000    179.000000   \n",
      "75%     1982.000000   1982.000000        5.000000    276.000000   \n",
      "max     2016.000000   2016.000000        6.000000    365.000000   \n",
      "\n",
      "       cause_encoded  cause_short_encoded  date_encoded  dept_name_encoded  \\\n",
      "count   20522.000000         20522.000000  20522.000000       20522.000000   \n",
      "mean       17.787399            17.787399   8219.541468        2737.470373   \n",
      "std         7.087504             7.087504   4620.082261        1499.637512   \n",
      "min         0.000000             0.000000      0.000000           0.000000   \n",
      "25%        18.000000            18.000000   4339.250000        1367.250000   \n",
      "50%        18.000000            18.000000   8099.000000        2921.500000   \n",
      "75%        19.000000            19.000000  12180.750000        3956.750000   \n",
      "max        35.000000            35.000000  16338.000000        5309.000000   \n",
      "\n",
      "       state_encoded  \n",
      "count   20522.000000  \n",
      "mean       30.251779  \n",
      "std        16.763585  \n",
      "min         0.000000  \n",
      "25%        17.000000  \n",
      "50%        31.000000  \n",
      "75%        45.000000  \n",
      "max        59.000000  \n"
     ]
    }
   ],
   "source": [
    "print(data.describe())"
   ]
  },
  {
   "cell_type": "code",
   "execution_count": 77,
   "id": "4c6379a5-edb0-4eea-8723-98bdf03553af",
   "metadata": {},
   "outputs": [],
   "source": [
    "from sklearn.model_selection import train_test_split"
   ]
  },
  {
   "cell_type": "code",
   "execution_count": 120,
   "id": "76ea0b8f-44aa-46db-bdc3-0e13b00eba5d",
   "metadata": {},
   "outputs": [],
   "source": [
    "# defining features and target \n",
    "X = data.drop(['cause', 'person', 'dept','cause_short','date','dept_name','state'], axis=1)\n",
    "y=data['cause_short']               # target - the dependent variable (outcome)"
   ]
  },
  {
   "cell_type": "code",
   "execution_count": 121,
   "id": "bd09975c-5c83-4d23-ac8e-8fa3b55621f0",
   "metadata": {},
   "outputs": [],
   "source": [
    "# Split the data into training and testing sets\n",
    "X_train, X_test, y_train, y_test = train_test_split(X, y, test_size=0.2, random_state=42)"
   ]
  },
  {
   "cell_type": "code",
   "execution_count": 122,
   "id": "0915dd8c-bf12-4202-8977-27a6b5ca5b6e",
   "metadata": {},
   "outputs": [],
   "source": [
    "#Train the machine learning models using the training set."
   ]
  },
  {
   "cell_type": "code",
   "execution_count": 123,
   "id": "0d9f0be0-b47a-4538-acc3-0b51fd7eb2a6",
   "metadata": {},
   "outputs": [],
   "source": [
    "import pandas as pd\n",
    "from sklearn.model_selection import train_test_split\n",
    "from sklearn.preprocessing import OneHotEncoder\n",
    "from sklearn.compose import ColumnTransformer\n",
    "from sklearn.pipeline import Pipeline\n",
    "from sklearn.tree import DecisionTreeClassifier"
   ]
  },
  {
   "cell_type": "code",
   "execution_count": 124,
   "id": "ff5a4787-abf1-4e68-9ac2-e7dfae788847",
   "metadata": {
    "scrolled": true
   },
   "outputs": [
    {
     "data": {
      "text/plain": [
       "0        1\n",
       "1        2\n",
       "2        4\n",
       "3        2\n",
       "4        3\n",
       "        ..\n",
       "20517    3\n",
       "20518    1\n",
       "20519    1\n",
       "20520    5\n",
       "20521    0\n",
       "Name: person_encoded, Length: 20522, dtype: int32"
      ]
     },
     "execution_count": 124,
     "metadata": {},
     "output_type": "execute_result"
    }
   ],
   "source": [
    "data.person_encoded"
   ]
  },
  {
   "cell_type": "code",
   "execution_count": 133,
   "id": "124f3e76-8606-45d7-a116-c678b37485ee",
   "metadata": {},
   "outputs": [
    {
     "name": "stdout",
     "output_type": "stream",
     "text": [
      "Accuracy: 1.0\n",
      "Classification Report:\n",
      "                           precision    recall  f1-score   support\n",
      "\n",
      "    9/11 related illness       1.00      1.00      1.00        19\n",
      "              accidental       1.00      1.00      1.00        17\n",
      "       aircraft accident       1.00      1.00      1.00        49\n",
      "          animal related       1.00      1.00      1.00        18\n",
      "                 assault       1.00      1.00      1.00       101\n",
      "     automobile accident       1.00      1.00      1.00       428\n",
      "        bicycle accident       1.00      1.00      1.00         3\n",
      "        boating accident       1.00      1.00      1.00         2\n",
      "                    bomb       1.00      1.00      1.00         7\n",
      "                 drowned       1.00      1.00      1.00        42\n",
      "    duty related illness       1.00      1.00      1.00        28\n",
      "            electrocuted       1.00      1.00      1.00        12\n",
      "               explosion       1.00      1.00      1.00         9\n",
      "                exposure       1.00      1.00      1.00         1\n",
      "      exposure to toxins       1.00      1.00      1.00         9\n",
      "                    fall       1.00      1.00      1.00        28\n",
      "                    fire       1.00      1.00      1.00         7\n",
      "                 gunfire       1.00      1.00      1.00      2230\n",
      "    gunfire (accidental)       1.00      1.00      1.00       109\n",
      "            heart attack       1.00      1.00      1.00       167\n",
      "         heat exhaustion       1.00      1.00      1.00        10\n",
      "     motorcycle accident       1.00      1.00      1.00       238\n",
      "                poisoned       1.00      1.00      1.00         1\n",
      "                 stabbed       1.00      1.00      1.00        80\n",
      "     struck by streetcar       1.00      1.00      1.00        13\n",
      "         struck by train       1.00      1.00      1.00        44\n",
      "       struck by vehicle       1.00      1.00      1.00       156\n",
      "      structure collapse       1.00      1.00      1.00         1\n",
      "        terrorist attack       1.00      1.00      1.00         2\n",
      "          train accident       1.00      1.00      1.00         4\n",
      "       training accident       1.00      1.00      1.00         6\n",
      "         vehicle pursuit       1.00      1.00      1.00       111\n",
      "       vehicular assault       1.00      1.00      1.00       145\n",
      "weather/natural disaster       1.00      1.00      1.00         8\n",
      "\n",
      "                accuracy                           1.00      4105\n",
      "               macro avg       1.00      1.00      1.00      4105\n",
      "            weighted avg       1.00      1.00      1.00      4105\n",
      "\n",
      "Confusion Matrix:\n",
      " [[ 19   0   0 ...   0   0   0]\n",
      " [  0  17   0 ...   0   0   0]\n",
      " [  0   0  49 ...   0   0   0]\n",
      " ...\n",
      " [  0   0   0 ... 111   0   0]\n",
      " [  0   0   0 ...   0 145   0]\n",
      " [  0   0   0 ...   0   0   8]]\n"
     ]
    }
   ],
   "source": [
    "from sklearn.tree import DecisionTreeClassifier\n",
    "from sklearn.metrics import accuracy_score, classification_report, confusion_matrix\n",
    "from sklearn.model_selection import train_test_split\n",
    "model = DecisionTreeClassifier()\n",
    "\n",
    "model.fit(X_train, y_train)\n",
    "\n",
    "y_pred = model.predict(X_test)\n",
    "\n",
    "accuracy = accuracy_score(y_test, y_pred)\n",
    "print(\"Accuracy:\", accuracy)\n",
    "\n",
    "report = classification_report(y_test, y_pred)\n",
    "print(\"Classification Report:\\n\", report)\n",
    "\n",
    "conf_matrix = confusion_matrix(y_test, y_pred)\n",
    "print(\"Confusion Matrix:\\n\", conf_matrix)\n"
   ]
  },
  {
   "cell_type": "code",
   "execution_count": null,
   "id": "a01984c3",
   "metadata": {},
   "outputs": [],
   "source": []
  }
 ],
 "metadata": {
  "kernelspec": {
   "display_name": "Python 3 (ipykernel)",
   "language": "python",
   "name": "python3"
  },
  "language_info": {
   "codemirror_mode": {
    "name": "ipython",
    "version": 3
   },
   "file_extension": ".py",
   "mimetype": "text/x-python",
   "name": "python",
   "nbconvert_exporter": "python",
   "pygments_lexer": "ipython3",
   "version": "3.11.2"
  }
 },
 "nbformat": 4,
 "nbformat_minor": 5
}
