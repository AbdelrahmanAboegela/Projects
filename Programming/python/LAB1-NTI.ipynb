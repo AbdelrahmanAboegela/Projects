{
 "cells": [
  {
   "cell_type": "code",
   "execution_count": 16,
   "metadata": {},
   "outputs": [
    {
     "name": "stdout",
     "output_type": "stream",
     "text": [
      "the count of vowels is: 6\n"
     ]
    }
   ],
   "source": [
    "x = input(\"Enter your word: \")\n",
    "vowels = \"aeiou\"\n",
    "count = 0\n",
    "for char in x.lower():\n",
    "    if char in vowels:\n",
    "        count+=1\n",
    "        \n",
    "print(\"the count of vowels is:\", count)"
   ]
  },
  {
   "cell_type": "code",
   "execution_count": 9,
   "metadata": {},
   "outputs": [
    {
     "name": "stdout",
     "output_type": "stream",
     "text": [
      "ASC ['1', '2', '3', '4', '5']\n",
      "DESC ['5', '4', '3', '2', '1']\n"
     ]
    }
   ],
   "source": [
    "arr= [input(\"Enter the elements: \") for _ in range(5)]\n",
    "asc = sorted(arr)\n",
    "desc = sorted(arr , reverse= True)\n",
    "\n",
    "print(\"ASC\",asc)\n",
    "print(\"DESC\",desc)"
   ]
  },
  {
   "cell_type": "code",
   "execution_count": 17,
   "metadata": {},
   "outputs": [
    {
     "data": {
      "text/plain": [
       "2"
      ]
     },
     "execution_count": 17,
     "metadata": {},
     "output_type": "execute_result"
    }
   ],
   "source": [
    "X = input (\"Enter Any String: \").lower()\n",
    "X.count(\"iti\")"
   ]
  },
  {
   "cell_type": "code",
   "execution_count": 18,
   "metadata": {},
   "outputs": [
    {
     "data": {
      "text/plain": [
       "'qqqqqqqqqqq'"
      ]
     },
     "execution_count": 18,
     "metadata": {},
     "output_type": "execute_result"
    }
   ],
   "source": [
    "x = input(\"Enter ur string: \")\n",
    "x_brief = ''.join(char for char in x if char.lower() not in 'aeiou')\n",
    "x_brief"
   ]
  },
  {
   "cell_type": "code",
   "execution_count": null,
   "metadata": {},
   "outputs": [],
   "source": []
  }
 ],
 "metadata": {
  "kernelspec": {
   "display_name": "Python 3",
   "language": "python",
   "name": "python3"
  },
  "language_info": {
   "codemirror_mode": {
    "name": "ipython",
    "version": 3
   },
   "file_extension": ".py",
   "mimetype": "text/x-python",
   "name": "python",
   "nbconvert_exporter": "python",
   "pygments_lexer": "ipython3",
   "version": "3.12.0"
  }
 },
 "nbformat": 4,
 "nbformat_minor": 2
}
